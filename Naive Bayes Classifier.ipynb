{
 "cells": [
  {
   "cell_type": "code",
   "execution_count": 4,
   "id": "ec63dae2",
   "metadata": {},
   "outputs": [],
   "source": [
    "#Set directory\n",
    "import os\n",
    "os.chdir(r\"/Users/Manni/Dropbox (ASU)/ASU Study/ASU Computer Science/CSE 575 Statistical Machine Learning/Project 1/Data/Train_data_gnb\")"
   ]
  },
  {
   "cell_type": "code",
   "execution_count": 38,
   "id": "0cdf454e",
   "metadata": {},
   "outputs": [],
   "source": [
    "#import libraries\n",
    "import numpy as np\n",
    "import math\n",
    "from math import sqrt\n",
    "from math import pi\n",
    "from math import exp\n",
    "import pandas as pd"
   ]
  },
  {
   "cell_type": "code",
   "execution_count": 39,
   "id": "73931485",
   "metadata": {},
   "outputs": [],
   "source": [
    "#Testing set import from csv\n",
    "TestData_0 = pd.read_csv(\"Test_0_data_gnb.csv\")\n",
    "TestData_1 = pd.read_csv(\"Test_1_data_gnb.csv\")"
   ]
  },
  {
   "cell_type": "code",
   "execution_count": 40,
   "id": "1bb580dd",
   "metadata": {},
   "outputs": [],
   "source": [
    "#Define testing set\n",
    "features_test_0 = TestData_0[['f1','f2']]\n",
    "target_test_0 = TestData_0[['class']]\n",
    "features_test_1 = TestData_1[['f1','f2']]\n",
    "target_test_1 = TestData_1[['class']]\n"
   ]
  },
  {
   "cell_type": "code",
   "execution_count": 41,
   "id": "d7fcc94a",
   "metadata": {},
   "outputs": [],
   "source": [
    "#the eight parameters #calculated from matlab\n",
    "mean_0_f1 = 44.18427959 \n",
    "stdev_0_f1 = sqrt(1.17E+02)\n",
    "mean_0_f2 = 87.4603939\n",
    "stdev_0_f2 = sqrt(1.03E+02)\n",
    "mean_1_f1 = 19.37006862\n",
    "stdev_1_f1 = sqrt(31.17569434)\n",
    "mean_1_f2 = 61.39836029\n",
    "stdev_1_f2 = sqrt(82.39831488)"
   ]
  },
  {
   "cell_type": "code",
   "execution_count": 42,
   "id": "991d998f",
   "metadata": {},
   "outputs": [],
   "source": [
    "features_test_0_f1 = TestData_0['f1']\n",
    "features_test_0_f1_list = features_test_0_f1.values.tolist()\n",
    "\n",
    "features_test_0_f2 = TestData_0['f2']\n",
    "features_test_0_f2_list = features_test_0_f2.values.tolist()\n",
    "\n",
    "features_test_1_f1 = TestData_1['f1']\n",
    "features_test_1_f1_list = features_test_1_f1.values.tolist()\n",
    "\n",
    "features_test_1_f2 = TestData_1['f2']\n",
    "features_test_1_f2_list = features_test_1_f2.values.tolist()"
   ]
  },
  {
   "cell_type": "code",
   "execution_count": 43,
   "id": "bab0ed6c",
   "metadata": {},
   "outputs": [],
   "source": [
    "prior_prob_0 = 0.5\n",
    "prior_prob_1 = 0.5"
   ]
  },
  {
   "cell_type": "code",
   "execution_count": 44,
   "id": "d7097574",
   "metadata": {},
   "outputs": [],
   "source": [
    "# define probability function\n",
    "def calculate_probability(x, mean, stdev):\n",
    "    result=[]\n",
    "    for tmp in x:\n",
    "        prob_density = (1 / (sqrt(2 * pi) * stdev)) * exp(-((tmp-mean)**2 / (2 * stdev**2 )))\n",
    "        result.append(prob_density)\n",
    "    return result"
   ]
  },
  {
   "cell_type": "code",
   "execution_count": 45,
   "id": "d57310f8",
   "metadata": {},
   "outputs": [],
   "source": [
    "P_0_f1_0 = calculate_probability(features_test_0_f1_list, 44.18427959, sqrt(1.17E+02))\n",
    "P_0_f2_0 = calculate_probability(features_test_0_f2_list, 87.4603939, sqrt(1.03E+02))\n",
    "P_0_f1_1 = calculate_probability(features_test_0_f1_list, 19.3700686, sqrt(31.17569434))\n",
    "P_0_f2_1 = calculate_probability(features_test_0_f2_list, 61.39836029, sqrt(82.39831488))\n",
    "\n",
    "P_1_f1_1 = calculate_probability(features_test_1_f1_list, 19.37006862, sqrt(31.17569434))\n",
    "P_1_f2_1 = calculate_probability(features_test_1_f2_list, 61.39836029, sqrt(82.39831488))\n",
    "P_1_f1_0 = calculate_probability(features_test_1_f1_list, 44.18427959, sqrt(1.17E+02))\n",
    "P_1_f2_0 = calculate_probability(features_test_1_f2_list, 87.4603939, sqrt(1.03E+02))"
   ]
  },
  {
   "cell_type": "code",
   "execution_count": 46,
   "id": "85afa999",
   "metadata": {},
   "outputs": [],
   "source": [
    "#for test set 0\n",
    "test_0_post_prob_0 = prior_prob_0*np.array(P_0_f1_0)*np.array(P_0_f2_0)\n",
    "test_0_post_prob_1 = prior_prob_1*np.array(P_0_f1_1)*np.array(P_0_f2_1)\n",
    "\n",
    "#for test set 1\n",
    "test_1_post_prob_0 = prior_prob_0*np.array(P_1_f1_0)*np.array(P_1_f2_0)\n",
    "test_1_post_prob_1 = prior_prob_1*np.array(P_1_f1_1)*np.array(P_1_f2_1)"
   ]
  },
  {
   "cell_type": "code",
   "execution_count": 47,
   "id": "05a9c6ab",
   "metadata": {},
   "outputs": [],
   "source": [
    "#Classification\n",
    "value_compare_0 = np.greater(test_0_post_prob_0,test_0_post_prob_1)\n",
    "value_compare_1 = np.greater(test_1_post_prob_1,test_1_post_prob_0)"
   ]
  },
  {
   "cell_type": "code",
   "execution_count": 48,
   "id": "8cb04709",
   "metadata": {},
   "outputs": [],
   "source": [
    "accuracy_0 = np.count_nonzero(value_compare_0)/len(value_compare_0)\n",
    "accuracy_1 = np.count_nonzero(value_compare_1)/len(value_compare_1)"
   ]
  },
  {
   "cell_type": "code",
   "execution_count": 50,
   "id": "8497afb4",
   "metadata": {},
   "outputs": [
    {
     "name": "stdout",
     "output_type": "stream",
     "text": [
      "0.9233480176211454\n"
     ]
    }
   ],
   "source": [
    "print (accuracy_1)"
   ]
  },
  {
   "cell_type": "code",
   "execution_count": null,
   "id": "209cae8c",
   "metadata": {},
   "outputs": [],
   "source": []
  },
  {
   "cell_type": "code",
   "execution_count": null,
   "id": "80325d95",
   "metadata": {},
   "outputs": [],
   "source": []
  }
 ],
 "metadata": {
  "kernelspec": {
   "display_name": "Python 3",
   "language": "python",
   "name": "python3"
  },
  "language_info": {
   "codemirror_mode": {
    "name": "ipython",
    "version": 3
   },
   "file_extension": ".py",
   "mimetype": "text/x-python",
   "name": "python",
   "nbconvert_exporter": "python",
   "pygments_lexer": "ipython3",
   "version": "3.8.8"
  }
 },
 "nbformat": 4,
 "nbformat_minor": 5
}
